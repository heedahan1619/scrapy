{
 "cells": [
  {
   "cell_type": "markdown",
   "metadata": {},
   "source": [
    "# Python 웹 크롤러 도구 비교(beautifulsoup vs selenium vs scrapy)"
   ]
  },
  {
   "cell_type": "markdown",
   "metadata": {},
   "source": [
    "### beautifulsoup(requests or urllib)\n",
    "> ###### 개념\n",
    "beautifulsoup는 HTML, XML 파일의 정보를 추출해내는 python 라이브러리.\n",
    "- python 내장 모듈인 requests 혹은 urllib을 이용해 HTML을 다운로드 받고, beautifulsoup로 데이터를 추출하는 방식.\n",
    "\n",
    "> ###### 장점\n",
    "- 쉬움.\n",
    "- 심플함.\n",
    "- 속도가 빠름(멀티프로세스나 멀티스레드 적용시 해당).\n",
    "\n",
    "> ###### 단점\n",
    "- 서버사이드렌더링을 사용하지 않는 SPA 사이트나 javascript 렌더링을 필요로 하는 사이트들은 크롤링하기 어려움.\n",
    "- 병렬처리 로직을 별도로 작성하지 않으면 느린 편."
   ]
  },
  {
   "cell_type": "markdown",
   "metadata": {},
   "source": [
    "### selenium\n",
    "> ###### 개념\n",
    "selenium은 웹 자동화 테스트(버튼 클릭, 스크롤 조작 등)에 사용되는 프레임워크.\n",
    "- 웹 페이지에서 javascript 렌더링을 통해 생성되는 데이터들을 손쉽게 가져올 수 있음.\n",
    "    - 인터넷 브라우저를 통해 크롤링하는 개념.\n",
    "    - Docker를 사용하면 매우 편리함.\n",
    "        - headless 모드로 크롤링할 때 리소스 정리가 매우 쉬움.\n",
    "\n",
    "> ###### 장점\n",
    "- 사용자가 보는 웹 페이지의 모든 정보를 가져올 수 있음.\n",
    "- javascript 렌더링 기능 지원.\n",
    "- 사용 방법이 직관적이고 쉬움.\n",
    "- 디버깅 방법 또한 직관적임.\n",
    "\n",
    "> ###### 단점\n",
    "- 속도가 많이 느림.\n",
    "- 메모리를 많이 차지."
   ]
  },
  {
   "cell_type": "markdown",
   "metadata": {},
   "source": [
    "### scrapy\n",
    "> ###### 개념\n",
    "scrapy는 크롤링을 위해 개발된 프레임워크.\n",
    ".\n",
    "- \n",
    "- scrapy로 개발된 크롤러를 올릴 수 있는 클라우드 서비스 제공(유료).\n",
    "- django와 같은 백엔드 서비스와 연동하기 좋고, 플러그인도 다양해서 여러모로 만능인 프레임워크.\n",
    "> ###### 장점\n",
    "- 다양한 플러그인 보유.\n",
    "    - 미들웨어, 파이프라인, javascript renderer(splash), proxy, xpath, CLI 등.\n",
    "- 훌륭한 커뮤니티와 문서화.\n",
    "    - scrapy로 개발된 크롤러를 올릴 수 있는 클라우드 서비스 제공(유료).\n",
    "    - django와 같은 백엔드 서비스와 연동하기 좋\n",
    "- 크롤링에 필요한 다양한 기능 보유.\n",
    "    - 병렬처리, robots.txt 준수 여부, 다운로드 속도 제어 등을 설정.\n",
    "> ###### 단점"
   ]
  }
 ],
 "metadata": {
  "language_info": {
   "name": "python"
  }
 },
 "nbformat": 4,
 "nbformat_minor": 2
}
