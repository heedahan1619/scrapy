{
 "cells": [
  {
   "cell_type": "markdown",
   "metadata": {},
   "source": [
    "# 정규표현식"
   ]
  },
  {
   "cell_type": "markdown",
   "metadata": {},
   "source": [
    "> ##### 정규표현식의 의미\n",
    "정규표현식(Regular Expression) \n",
    "- 문자열을 처리하는 방법 중의 하나.\n",
    "- 특정한 조건의 문자를 '검색'하거나 '치환'하는 과정을 매우 간편하게 처리할 수 있도록 하는 수단."
   ]
  },
  {
   "cell_type": "markdown",
   "metadata": {},
   "source": [
    ">##### 정규표현식의 특징\n",
    "- 대소문자를 구분함\n",
    "- 띄어쓰기 수를 구분함"
   ]
  },
  {
   "cell_type": "markdown",
   "metadata": {},
   "source": [
    ">##### 정규표현식의 패턴\n",
    "기본 패턴\n",
    "- ^(캐럿)\n",
    "    - 시작하는 문자열 찾기.\n",
    "    - ```^W: 'W'로 시작하는 문자열 찾기```\n",
    "- $(달러)\n",
    "    - 끝나는 문자열 찾기.\n",
    "    - ```\\$: 'W'로 끝나는 문자열 찾기```\n",
    "- .(애니)\n",
    "    - 문자 or 숫자 or 공백 하나.\n",
    "    - ```...: 문자열 길이가 3글자 이상인 것을 찾기```\n",
    "- '[]'(브라켓)\n",
    "    - [] 안에 있는 문자열 찾기.\n",
    "    - ```[dH]: 'd+문자(.)' or 'H+문자(.)' 문자열 찾기```\n",
    "- -(레인지)\n",
    "    - 해당하는 범위의 문자열 찾기.\n",
    "    - ```A-C: 'A'부터 'C'까지```\n",
    "- [^<문자>] (부정)\n",
    "    - 괄호 안의 문자를 포함하지 않는 문자열 찾기.\n",
    "    -  ```[^ABC]: 'A' or 'B' or 'C'를 제외한 문자열 찾기```\n",
    "\n",
    "서브 패턴\n",
    "- |(or)\n",
    "    - 또는\n",
    "    - ```on|yes|day: 'on' or 'yes' or 'day' 문자열 찾기```\n",
    "\n",
    "수량자(Quantifiers): 어떠한 패턴이 얼마큼 등장하는가\n",
    "- '*'\n",
    "    - 0개 이상 나타나는 문자.\n",
    "    - ```a*b: 'a'가 앞에 있을 수도 있고 여러 개 있을 수도 있고 'b'도 뒤에 있을 수도 있고 여러 개 있을 수도 있음. 'aab', 'ab', 'b' 모두 가능```\n",
    "- '+'\n",
    "    - 1개 이상 나타나는 문자.\n",
    "    - ```a+b: 'a'가 한 개 이상, 'b'도 한 개 이상 있어야 함.``\n",
    "- ?\n",
    "    - 없거나 1개인 경우.\n",
    "    - ```a?b: 'a'가 없거나 한 개, 'b'가 없거나 한개```\n",
    "- {m, n}\n",
    "    - m회 이상, n회 이하 나타나는 문자\n",
    "    - ```[els]{1,3}: 'e' or 'l' or 's'가 1개 이상 3개 이하```\n",
    "\n",
    "패턴의 활용\n",
    "- 수량자의 최소 단위\n",
    "    - '*' 수량자의 최소 단위: '0'\n",
    "    - '?' 수량자의 최소 단위: '0'\n",
    "    - '+' 수량자의 최소 단위: '1'\n",
    "- 수량자 뒤에 ?가 오면 각 수량자의 최소 단위를 뜻함.\n",
    "    - ```r.*?: 오직 r만 나타냄```\n",
    "    - ```r.??: 오직 'r'만 나타냄```\n",
    "    - ```r.+?: 'r'과 'r' 다음에 나오는 문자 하나```\n",
    "    \n",
    "수량자 종류\n",
    "- 대상: ```<div>test</div><div>test2</div>```\n",
    "- 탐욕적인 수량자(Greedy Quantifiers)\n",
    "    - 수량자 선택 ```<div>.+<div>```    \n",
    "        - 'test'와 'test2'를 따로 선택하고 싶어도 위와 같이 수량자를 선택하면 ```<div>test</div><div>test2</div>``` 전체가 한 개로 선택됨.\n",
    "        - 처음 만족하는 부분부터 마지막 만족하는 부분까지 모두 선택. \n",
    "- 게으른 수량자(Lazy Quantifiers)\n",
    "    - 수량자 선택 ```<div>.+?</div>```\n",
    "        - 만족하는 부분만 선택하게 됨.\n",
    "        - 만족하는 부분이 여러 개라면 여러 개 선택됨.      \n",
    "\n",
    "경계\n",
    "- '[]'로 범위를 지정하는 것보다 간편한 방법.\n",
    "- 종류\n",
    "    - '\\w': 'w' = 문자, 숫자, 공백을 의미.\n",
    "    - '\\w*': 0 이상의 문자, 숫자, 공백을 의미.\n",
    "    - '\\W': 문자, 숫자, 공백을 제외한 것 의미(w의 반대).\n",
    "    - '\\d': 숫자를 의미.\n",
    "    - '\\D': 숫자를 제외한 모든 것을 의믜(d의 반대).\n",
    "\n",
    "Assertions\n",
    "- '\\w*(?=X): '?='은 뒤에 오는 문자로 검색해서 문자를 찾지만 선택에서는 제외하라는 뜻."
   ]
  },
  {
   "cell_type": "markdown",
   "metadata": {},
   "source": [
    "> ##### 이스케이프(Escape)\n",
    "정규표현식 패턴이 아닌 문자로 사용하고 싶을 때는 앞에 '\\'(역슬래시)를 앞에 붙이면 된다."
   ]
  },
  {
   "cell_type": "markdown",
   "metadata": {},
   "source": [
    "# 정규표현식(Regular Expressions)"
   ]
  },
  {
   "cell_type": "markdown",
   "metadata": {},
   "source": [
    "## 정규표현식이란?\n",
    "특정한 규칙을 가진 문자열의 집합을 표현하는 데 사용하는 형식 언어.\n",
    "- 복잡한 문자열의 검색과 치환을 위해 사용됨.\n",
    "- Python 뿐만 아니라 문자열을 처리하는 모든 곳에서 사용됨."
   ]
  },
  {
   "cell_type": "markdown",
   "metadata": {},
   "source": [
    "## 메타 문자(Meta characers)\n",
    "문자가 가진 원래의 의미가 아닌 특별한 용도로 사용되는 문자.\n",
    "- 종류\n",
    "    - ```. ^ $ * + ? \\ | ( ) { } [ ]```"
   ]
  },
  {
   "cell_type": "markdown",
   "metadata": {},
   "source": [
    "### [] 문자 클래스\n",
    "정규표현식에서 대괄호 [] 는 대괄호 안에 포함된 문자들 중 하나와 매치를 뜻함.\n",
    "> ##### abc 중 하나와 매치.\n",
    "- ```[abc]```\n",
    "    - ```a```: a와 매치.\n",
    "    - ```boy```: b와 매치.\n",
    "    - ```dye```: a, b, c 중 어느 문자와도 매치되지 않음.\n",
    "> ##### [] 안의 두 문자에 - 를 사용하면 두 문자 사이의 범위를 뜻함.\n",
    "- ```[a-c]```: [abc]와 같음.\n",
    "- ```[0-5]```: [012345]와 같음.\n",
    "- ```[a-zA-Z]```: 모든 알파벳.\n",
    "- ```[0-9]```: 숫자.\n",
    "> ##### [] 안에서 ^는 반대를 뜻함.\n",
    "- ```[^0-9]```: 숫자를 제외한 문자만 매치.\n",
    "- ```[^abc]```: a, b, c를 제외한 모든 문자와 매치.\n",
    "> ##### [] 안에서 .을 사용할 경우 문자 원래의 의미인 마침표를 뜻함.\n",
    "- ```a[.]b```\n",
    "    - ```a.b```: a와 b 사이에 마침표가 있으므로 매치됨.\n",
    "    - ```a0b```: a와 b 사이에 마침표가 없으므로 매치되지 않음."
   ]
  },
  {
   "cell_type": "markdown",
   "metadata": {},
   "source": [
    "### 자주 사용하는 문자 클래스\n",
    "- ```\\d```: 숫자 [0-9]와 같음.\n",
    "- ```\\D```: 숫자가 아닌 것 [^0-9]와 같음.\n",
    "- ```\\w```: 숫자 + 문자 [a-zA-Z0-9]와 같음.\n",
    "- ```\\W```: 숫자 + 문자가 아닌 것 [^a-zA-Z0-9]와 같음.\n",
    "- ```\\s```: 공백 [ \\t\\n\\r\\f\\v]와 같음.\n",
    "- ```\\S```: 공백이 아닌 것 [^ \\t\\n\\r\\f\\v]와 같음.\n",
    "- ```\\b```: 단어 경계 \\w와 \\W의 경계와 같음.\n",
    "- ```\\B```: 단어가 아닌 것의 경계와 같음."
   ]
  },
  {
   "cell_type": "markdown",
   "metadata": {},
   "source": [
    "### . 문자 클래스\n",
    "줄바꿈 문자인 \\n을 제외한 모든 문자와 매치됨.\n",
    "- ```a.b```: a + 모든 문자 b를 뜻함.\n",
    "    - ```aab```: a와 b 사이의 a는 모든 몬자에 포함되므로 매치됨.\n",
    "    - ```a0b```: a와 b 사이의 0은 모든 문자에 포함되므로 매치됨.\n",
    "    -  ```abc```: a와 b 사이에 문자가 없기 때문에 매치되지 않음."
   ]
  },
  {
   "cell_type": "markdown",
   "metadata": {},
   "source": [
    "### * 문자 클래스\n",
    "'*' 앞에 오는 문자가 0개를 포함하여 몇 개가 오든 모두 매치됨.\n",
    "- ```lo*l```\n",
    "    - ```ll```: 매치됨.\n",
    "    - ```lol```: 매치됨.\n",
    "    - ```looool```: 매치됨.\n",
    "    - ```looooooooooooooooooooooool```: 매치됨.\n",
    "    - ```lbl```: 매치되지 않음.\n",
    "    - ```loooooooooooobooooooooooool```: 매치되지 않음."
   ]
  },
  {
   "cell_type": "markdown",
   "metadata": {},
   "source": [
    "### + 문자 클래스\n",
    "'+' 앞에 있는 문자가 최소 한 번 이상 반복되어야 매치됨.\n",
    "- ```lo+l```\n",
    "    - ```ll```: 매치되지 않음.\n",
    "    - ```lol```: 매치됨.\n",
    "    - ```looooool```: 매치됨."
   ]
  },
  {
   "cell_type": "markdown",
   "metadata": {},
   "source": [
    "### ? 문자 클래스\n",
    "? 앞에 있는 문자가 없거나 하나 있을 때 매치됨.\n",
    "- ```lo?l```\n",
    "    - ```ll```: 매치됨.\n",
    "    - ```lol```: 매치됨.\n",
    "    - ```lool```: 매치되지 않음."
   ]
  },
  {
   "cell_type": "markdown",
   "metadata": {},
   "source": [
    "### {} 문자 클래스\n",
    "> ##### {m, n}의 형태\n",
    "앞에 있는 문자가 m번에서 n번까지 반복될 때 매치됨.\n",
    "- ```lo{3, 5}l```\n",
    "    - ```ll```: 매치되지 않음.\n",
    "    - ```lol```: 매치되지 않음.\n",
    "    - ```loool```: 매치됨.\n",
    "    - ```loooool``: 매치됨.\n",
    "    - ```looooool```: 매치되지 않음.\n",
    "> ##### {m}의 형태\n",
    "반드시 m번 반복인 경우만 매치됨.\n",
    "> ##### {0, }의 형태\n",
    "*와 동일함.\n",
    "> ##### {1, }의 형태\n",
    "+와 동일함.\n",
    ">##### {0, 1}의 형태\n",
    "?와 동일함."
   ]
  },
  {
   "cell_type": "markdown",
   "metadata": {},
   "source": [
    "### | 문자 클래스\n",
    "여러 개의 정규표현식들을 |로 구분하면 or의 의미가 적용되어, 정규표현식들 중 어느 하나와 매치됨.\n",
    "- ```a|b|c```\n",
    "    - ```a```: 매치됨.\n",
    "    - ```b```: 매치됨.\n",
    "    - ```c```: 매치됨.\n",
    "    - ```a b```: 매치됨.\n",
    "    - ```a b c```: 매치됨.\n",
    "    - ```d```: 매치되지 않음."
   ]
  },
  {
   "cell_type": "markdown",
   "metadata": {},
   "source": [
    "### ^ 문자 클래스\n",
    "문자열이 ^ 뒤에 있는 문자로 시작되면 매치됨.\n",
    "- 여러 줄의 문자일 경우 첫 줄만 적용됨.\n",
    "- 단 re.MULTILINE 옵션이 적용되면 각 줄의 첫 문자를 검사하여 매치됨.\n",
    "- ```^a```\n",
    "    - ```a```: 매치됨.\n",
    "    - ```aaa```: 매치됨.\n",
    "    - ```baaa```: 매치되지 않음.\n",
    "    - ```1aaa```: 매치되지 않음."
   ]
  },
  {
   "cell_type": "markdown",
   "metadata": {},
   "source": [
    "### $ 문자 클래스\n",
    "문자열이 $ 앞에 있는 문자로 끝나면 매치됨.\n",
    "- 여러 줄의 문자열일 경우 마지막 줄만 적용됨.\n",
    "- 단, re.MULTILINE 옵션이 적용되면 각 줄의 마지막 문자를 검사하여 매치됨.\n",
    "- ```a$```\n",
    "    - ```a```: 매치됨.\n",
    "    - ```aa```: 매치됨.\n",
    "    - ```baa```: 매치됨.\n",
    "    - ```aabb```: 매치되지 않음."
   ]
  },
  {
   "cell_type": "markdown",
   "metadata": {},
   "source": [
    "### \\A, \\Z 문자 클래스\n",
    "> ##### \\A\n",
    "^와 동일하지만 re.MULTILINE 옵션을 무시하고 항상 문자열 첫 줄의 시작 문자를 검사함.\n",
    "\n",
    "> ##### \\Z\n",
    "$와 동일하지만 re.MULTILINE 옵션을 무시하고 항상 문자열 마지막 줄의 끝 문자를 검사함."
   ]
  },
  {
   "cell_type": "markdown",
   "metadata": {},
   "source": [
    "### 조건이 있는 표현식\n",
    "> ##### 표현식1(?=표현식2)\n",
    "표현식1 뒤의 문자열이 표현식2와 매치되면 표현식1과 매치됨.\n",
    "- ```hello(?=world)```: hello 뒤에 world가 있으면 hello가 매치됨.\n",
    "    - ```helloworld```: hello 뒤에 world가 있기 때문에 hello가 매치됨.\n",
    "    - ```byeworld```: hello가 없기 때문에 매치되지 않음.\n",
    "    - ```helloJames```: hello 뒤에 world가 없기 때문에 매치되지 않음.\n",
    "\n",
    "> ##### 표현식1(?!표현식2)\n",
    "표현식1 뒤의 문자열이 표현식2와 매치되지 않으면 표현식1과 매치됨.\n",
    "- ```hello(?!world)```\n",
    "    - ```helloword```: hello 뒤에 world가 있기 때문에 매치되지 않음.\n",
    "    - ```byeworld```: hello가 없기 때문에 매치되지 않음.\n",
    "    - ```helloJames```: hello 뒤에 world가 없기 때문에 hello가 매치되지 않음.\n",
    "\n",
    "> ##### (?<=표현식1)표현식2\n",
    "표현식2 앞의 문자열이 표현식1과 매치되면 표현식2가 매치됨.\n",
    "- ```(?<=hello)world```\n",
    "    - `helloworld`: world 앞에 hello가 있기 때문에 world가 매치됨.\n",
    "    - ```byeworld```: world 앞에 hello가 없기 때문에 매치되지 않음.\n",
    "    - ```helloJames```: world가 없기 때문에 매치되지 않음.\n",
    "\n",
    "> ##### (<!표현식1)표현식2\n",
    "표현시2 앞의 문자열이 표현식1과 매치되지 않으면 표현식2가 매치됨.\n",
    "- ```(?<!hello)world```\n",
    "    - ```helloworld```: world 앞에 hello가 있기 때문에 매치되지 않음.\n",
    "    - ```byeworld```: world 앞에 hello가 없기 때문에 world가 매치됨.\n",
    "    - ```helloJames```: world가 없기 때문에 매치되지 않음."
   ]
  },
  {
   "cell_type": "markdown",
   "metadata": {},
   "source": [
    "## Python 정규표현식 모듈 re\n",
    "python에서는 re 모듈을 통해 정규표현식을 사용한다.\n",
    "- ```import re```\n",
    "\n"
   ]
  },
  {
   "cell_type": "markdown",
   "metadata": {},
   "source": [
    "### compile 정규표현식 컴파일\n",
    "'re.compile()' 명령을 통해 정규표현식을 컴파일하여 변수에 저장한 후 사용할 수 있다.\n",
    "- ```<변수이름> = re.compile(<'정규표현식'>)```\n",
    "\n",
    "정규표현식을 컴파일하여 변수에 할당한 후 타입을 확인해보면 '_sre.SRE_Pattern'이라는 이름의 클래스 객체인 것을 볼 수 있다.\n",
    "- ```p = re.compile('[abc]'])```\n",
    "- ```print(type(p))```\n",
    "    - ```<class '_sre.SRE_Pattern'>```"
   ]
  },
  {
   "cell_type": "markdown",
   "metadata": {},
   "source": [
    "## 패턴 객체의 메서드\n",
    "패턴 객체는 매치를 검색할 수 있는 네 가지 메서드를 제공한다.\n",
    "- ```p = re.compile('[a-z]+')```"
   ]
  },
  {
   "cell_type": "markdown",
   "metadata": {},
   "source": [
    "### match\n",
    "문자열의 처음 시작부터 검색하여 일치하지 않는 부분이 나올 때까지 찾는다.\n",
    "- 검색의 결과로 '_sre.SRE_Match' 객체를 리턴한다.\n",
    "    - ```p.match('aaaaa')```\n",
    "        - ```<_sre.SRE_Match object; span=(0, 5), match='aaaaa'>```\n",
    "    - ```p.match('bbbbbbbbb')```\n",
    "        - ```<_sre.SRE_Match object; span=(0, 9), match='bbbbbbbbb'>```\n",
    "    - ```p.match('1aaaa')```\n",
    "        - ```None```\n",
    "    - ```p.match('aaa1aaa')```\n",
    "        - ```<_sre.SRE_Match object; span=(0, 3), match='aaa'>```"
   ]
  },
  {
   "cell_type": "markdown",
   "metadata": {},
   "source": [
    "### search\n",
    "문자열 전체에서 검색하여 처음으로 매치되는 문자열을 찾는다.\n",
    "- 검색의 결과로 '_sre.SRE_Match' 객체를 리턴한다.\n",
    "    - ```p.search('aaaaa')```\n",
    "        - ```<_sre.SRE_Match object; span=(0, 5), match='aaaaa'>```\n",
    "    - ```p.search('11aaaa')```\n",
    "        - ```<_sre.SRE_Match object; span=(2, 6), match='aaaa'>```\n",
    "    - ```p.search('aaa11aaa')```\n",
    "        - ```<_sre.SRE_Match object; span=(0, 3), match='aaa'>```\n",
    "    - ```p.search('1aaa11aaa1')```\n",
    "        - ```<_sre.SRE_Match object; span=(1, 4), match='aaa'>```"
   ]
  },
  {
   "cell_type": "markdown",
   "metadata": {},
   "source": [
    "### findall \n",
    "문자열 내에서 일치하는 모든 패턴을 찾는다. \n",
    "- 검색의 결과를 리스트로 반환한다.\n",
    "    - ```p.findall('aaa')```\n",
    "        - ```['aaa']```\n",
    "    - ```p.findall('11aaa')```\n",
    "        - ```['aaa']```\n",
    "    - ```p.findall('1a1a1a1a1a')```\n",
    "        - ```['a', 'a', 'a', 'a', 'a']```\n",
    "    - ```p.findall('1aa1aaa1a1aa1aaa')```\n",
    "        - ```['aa', 'aaa', 'a', 'aa', 'aaa']```"
   ]
  },
  {
   "cell_type": "markdown",
   "metadata": {},
   "source": [
    "### finditer\n",
    "문자열 내에서 일치하는 모든 패턴을 찾는다.\n",
    "- 검색의 결과로 'callable_iterator'라는 객체가 반환된다. \n",
    "- for문을 사용하여 하나씩 출력해야 한다.\n",
    "- 반복 가능한 객체는 각 매치의 결과인 매치 객체를 포함하고 있다.\n",
    "    - ```p.finditer('a1bb1ccc')```\n",
    "        - ```<callable_iterator object at 0x7f850c4285f8```\n",
    "        - ```f_iter = p.finditer('a1bb1ccc')```\n",
    "            - ```for i in f_iter:```\n",
    "                ```print(i)```\n",
    "                - ```<_sre.SRE_Match object; span=(0, 1), match='a'```\n",
    "                - ```<_sre.SRE_Match object; span=(2, 4), match='bb'```\n",
    "                - ```<_sre.SRE_Match object; span=(5, 8), match='ccc'```\n",
    "                "
   ]
  },
  {
   "cell_type": "markdown",
   "metadata": {},
   "source": [
    "## 매치 객체의 메서드\n",
    "패턴 객체의 메서드를 통해 리턴된 매치 객체는 아래와 같은 정보를 담고 있다.\n",
    "- ```<_sre.SRE_Match object; span=(매치 시작지점 인덱스, 매치 끝지점 인덱스), match='매치된 문자열'>```"
   ]
  },
  {
   "cell_type": "markdown",
   "metadata": {},
   "source": [
    "### 메서드 종류\n",
    "매치 객체는 내부 정보에 접근할 수 있는 네 가지 메서드를 제공한다.\n",
    "- group(): 매치된 문자열 출력.\n",
    "- start(): 매치 시작지점 인덱스 출력.\n",
    "- end(): 매치 끝지점 인덱스 출력.\n",
    "- span(): (start(), end())를 튜플로 출력.\n",
    "\n",
    "> ##### 매치 오브젝트\n",
    "- ```p = re.compile('[a-z]+')```\n",
    "- ```result = p.search('1aaa11aaa1')```\n",
    "- ```print(result)```\n",
    "> ##### 메서드 실행 결과\n",
    "- ```result.group()```\n",
    "    - ```aaa```\n",
    "- ```result.start()```\n",
    "    - ```1```\n",
    "- ```result.end()```\n",
    "    - ```4```\n",
    "- ```result.span()```\n",
    "    - ```(1, 4)```"
   ]
  },
  {
   "cell_type": "markdown",
   "metadata": {},
   "source": [
    "## () 그룹화\n",
    "정규표현식 () 안에 넣으면 그 부분만 그룹화된다. groups 메서드를 통해 그룹들을 튜플 형태로 리턴 할 수 있다.\n",
    "- ```p = re.search('(hello)(world)', 'helloworld') # 정규표현식 hello와 world의 매치 결과를 각각 그룹화하였다.``` \n",
    "    - ```grouping = p.groups()```\n",
    "    - ```print(grouping)```\n",
    "        - ```('hello', 'world') # 각 그룹의 매치 결과가 튜플로 묶여서 리턴됨.```\n",
    "\n",
    "> ##### group 메서드를 통해 각 그룹을 호출화할 수 있다.\n",
    "- 인자를 넣지 않으면 전체 매치 결과 리턴\n",
    "    - ```p.group()```\n",
    "        - ```helloworld```\n",
    "- p.group()와 같다.\n",
    "    - ```p.group(0)```\n",
    "        - ```helloworld```\n",
    "- 1번 그룹 매치 결과 리턴\n",
    "    - ```p.group(1)```\n",
    "        ```hello``\n",
    "- 2번 그룹 매치 결과 리턴\n",
    "    - ```p.group(2)```\n",
    "        - ```world```"
   ]
  },
  {
   "cell_type": "markdown",
   "metadata": {},
   "source": [
    "### 그룹 이름 지정\n",
    "```(?P<그룹이름>표현식)```\n",
    "- 그룹에 이름을 지정하려면 다음과 같이 한다.\n",
    "- 표현식 a의 매치 결과는 그룹 first에 저장되고 표현식 b의 매치 결과는 그룹 second에 저장된다.\n",
    "    - ```re.match('(?P<first>a)(?P<second>b)', 'ab')```\n",
    "        - ```<_sre.SRE_Match object; span=(0, 2), match='ab'>```\n",
    "- 위의 표현식은 그룹화가 된다는 점을 제외하면 아래의 표현식과 동일한 결과를 돌려준다.\n",
    "    - ```re.match('ab', 'ab')```\n",
    "        - ```<_sre.SRE_Match object; span=(0, 2), match='ab'>```"
   ]
  },
  {
   "cell_type": "markdown",
   "metadata": {},
   "source": [
    "### 그룹 재참조\n",
    "그룹을 지정하면 같은 '\\그룹번호'와 같은 형식으로 표현식 내에서 다시 호출하여 사용할 수 있다.\n",
    "- 이 때, 반드시 표현식 앞에 'r'을 붙여야 제대로 작동한다.\n",
    "    - ```re.match(r'(a)(b)\\1\\2', 'abab') # 표현식 abab와 동일하다.``` \n",
    "        - ```<_sre.SRE_Match object; span=(0, 4), match='abab'> # abab가 모두 매치되었다.```\n",
    "- 그룹의 이름을 지정하였을 경우 '(?P=그룹이름)'의 형식으로 호출할 수 있다.\n",
    "    - ```re.match('?P<first>a)(?P<second>b)(?P=first)(?P=second)', 'abab')# 표현식 abab와 동일하다.```\n",
    "        - ```<_sre.SRE_Match object; span=(0, 4), match='abab'> # abab가 모두 매치되었다.```"
   ]
  }
 ],
 "metadata": {
  "language_info": {
   "name": "python"
  }
 },
 "nbformat": 4,
 "nbformat_minor": 2
}
