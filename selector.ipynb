{
 "cells": [
  {
   "cell_type": "markdown",
   "metadata": {},
   "source": [
    "# Xpath와 CSS Selector 기본 문법"
   ]
  },
  {
   "cell_type": "markdown",
   "metadata": {},
   "source": [
    "## Xpath"
   ]
  },
  {
   "cell_type": "markdown",
   "metadata": {},
   "source": [
    "> #### Xpath(XML Path Language)란?\n",
    "W3C의 표준으로 XML 문서의 구조를 통해 경로 위에 지정한구문을 사용하여 항목을 배치하고 처리하는 방법을 기술하는 언어.\n",
    "- XML 표현보다 더 쉽고 약어로 되어 있음.\n",
    "- XML 문서의 Node를 정의하기 위하여 경로식(Path Expression)을 사용.\n",
    "- 수학함수와 기타 확장 가능한 표현 존재."
   ]
  },
  {
   "cell_type": "markdown",
   "metadata": {},
   "source": [
    "> #### Xpath의 장점\n",
    "- W3C의 권고 사항으로 견고한 표준이 확립되어 있음.\n",
    "- 유연성과 확장을 요하는 서버 통신이나 도큐먼트 출력, 기타 XML을 사용하는 여러 분야에 널리 사용.\n",
    "    - 다양한 API와 함수, 경로식(Path Expression) 덕분."
   ]
  },
  {
   "cell_type": "markdown",
   "metadata": {},
   "source": [
    "> ##### Xpath 요소 가져오기\n",
    "크롬 개발자 도구에서 마우스 우클릭 시, 복사 -> 전체 XPath 복사\n",
    "- 계속 id가 바뀌는 요소를 가지고 올 시, 유용하게 사용."
   ]
  },
  {
   "cell_type": "markdown",
   "metadata": {},
   "source": [
    "## CSS Selector"
   ]
  },
  {
   "cell_type": "markdown",
   "metadata": {},
   "source": [
    "> #### CSS Selector란?\n",
    "말 그대로 선택을 해주는 요소.\n",
    "- CSS Selector를 통해 특정 요소들을 선택하여 스타일을 적용할 수 있음."
   ]
  },
  {
   "cell_type": "markdown",
   "metadata": {},
   "source": [
    "> #### CSS Selector 기본 문법\n",
    "클래스 선택자 vs 아이디 선택자\n",
    "- 아이디 선택자의 우선순위가 클래스 선택자의 우선순위보다 높다.\n",
    "    - 클래스 선택자: .(클래스 이름)\n",
    "    - 아이디 선택자: #(아이디 이름)\n",
    "\n",
    "자식 선택자 vs 하위 선택자\n",
    "- 자식 선택자(부모의 바로 아래 자식 요소만 선택): ```selction > ul```\n",
    "- 하위 선택자(모든 하위 요소 선택): ```section ul```\n",
    "\n",
    "인접 형제 vs 일반 형제\n",
    "- 인접 형제(앞에서 지정한 요소의 바로 다음에 위치하는 형제 요소만 선택): ```section + ul```\n",
    "- 일반 형제(두 개의 선택자 사이에 위치하여 뒤쪽 선택자의 요소와 앞쪽 선택자 요소의 부모 요소가 같고, 뒤쪽 선택자의 요소가 뒤에 위치할 때 선택함. 두 요소가 붙어있을 필요는 없음.): ```section ~ ul```\n"
   ]
  }
 ],
 "metadata": {
  "language_info": {
   "name": "python"
  }
 },
 "nbformat": 4,
 "nbformat_minor": 2
}
