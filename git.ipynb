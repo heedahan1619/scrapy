{
 "cells": [
  {
   "cell_type": "markdown",
   "metadata": {},
   "source": [
    "## 원격 저장소"
   ]
  },
  {
   "cell_type": "markdown",
   "metadata": {},
   "source": [
    "### 원격 저장소(Github) 만들기"
   ]
  },
  {
   "cell_type": "markdown",
   "metadata": {},
   "source": [
    "#### SSH keys 등록하기\n"
   ]
  },
  {
   "cell_type": "markdown",
   "metadata": {},
   "source": [
    "> ##### 이미 생성된 SSH key가 있는지 확인하기\n",
    "터미널에 다음 명령어를 입력하기.  \n",
    "- ```cat ~/.ssh/id_rsa.pub```"
   ]
  },
  {
   "cell_type": "markdown",
   "metadata": {},
   "source": [
    "> ##### 아직 한번도 SSH key를 생성하지 않은 상태\n",
    "'<경로>/.ssh/id_rsa/pub 파일이 없다'는 메시지가 뜬다.\n",
    "- ```cat: <경로>/.ssh/id_rsa.pub: No such file or directory```\n",
    "\n",
    "SSH key 생성하기.\n",
    "- ```ssh-keygen```\n",
    "\n",
    "SSH key가 생성된 디렉토리 확인하기.\n",
    "- ```Your identification has been saved in <경로>/.ssh/id_rsa```"
   ]
  },
  {
   "cell_type": "markdown",
   "metadata": {},
   "source": [
    "> ##### SSH key가 생성되어 있는 상태\n",
    "터미널에 다음 명령어를 입력하기.\n",
    "- ```~/.ssh/id_rsa.pub```\n",
    "\n",
    "SSH key가 생성되어 있는 디렉토리 확인.\n",
    "- ```<경로>/.ssh/id_rsa.pub: line 1: ssh-rsa: command not found```"
   ]
  },
  {
   "cell_type": "markdown",
   "metadata": {},
   "source": [
    "> ##### SSH Key 등록하기\n",
    "경로 이동하기.\n",
    "- ```cd <경로>/.ssh/```\n",
    "\n",
    "키 발급 목록 확인하기.\n",
    "- ```ls -al```\n",
    "\n",
    "키 종류\n",
    "- 비공개키: id_rsa\n",
    "- 공개키: id_rsa.pub\n",
    "    - 공개키를 원격 저장소에 등록을 해 놓으면 원격 저장소에 access하려고 할 때 컴퓨터에 있는 id_rsa 비공개 키와 원격 저장소에 등록해 놓은 공개 키인 id_rsa.pub을 비교하여 일치하면 별도의 로그인 과정없이 access 할 수 있다.\n",
    "\n",
    "키 복사하기\n",
    "- 다음 명령어 입력해서 나온 문자 복사하기\n",
    "    - ```cat id_rsa.pub```\n",
    "\n",
    "github 사이트에서 복사한 키 등록하기\n",
    "- Profile - Settings - SSH and GPG keys - SSH keys 들어가기.\n",
    "- New SSH key 버튼을 클릭하여 복사한 키 등록하기.\n"
   ]
  },
  {
   "cell_type": "markdown",
   "metadata": {},
   "source": [
    "### 저장소 만들기\n",
    "github 사이트에서 New repository 버튼을 클릭하여 저장소를 만든다."
   ]
  },
  {
   "cell_type": "markdown",
   "metadata": {},
   "source": [
    "### 원격 저장소(Github) 연결하기"
   ]
  },
  {
   "cell_type": "markdown",
   "metadata": {},
   "source": [
    "### 원격 저장소 확인하기\n",
    "- 현재 등록된 원격 저장소 확인.\n",
    "    - ```git remote```\n",
    "\n",
    "- 단축이름과 URL을 함께 확인.\n",
    "    - ```git remote -v```"
   ]
  },
  {
   "cell_type": "markdown",
   "metadata": {},
   "source": [
    "#### 원격 저장소 복제\n",
    "다른 프로젝트에 참여하거나 git 저장소를 복사할 때 'git clone' 명령어를 사용.\n",
    "- github 사이트로 가서 복사하고 싶은 저장소의 SSH URL을 복사한다.\n",
    "- 터미널에 아래와 같은 명령어를 입력한다.\n",
    "    - 디렉토리명 지정 없이 복제하기\n",
    "        - ```git clone <원격 저장소 URL>```\n",
    "    - 디렉토리명 지정해서 복제하기\n",
    "        - ```git clone <원격 저장소 URL> <원격 저장소 이름>```\n",
    "- 현재 디렉토리에 저장소의 이름이 동일한 디렉토리가 만들어지고 그 안에 리모트 저장소와 원격으로 연결되며 저장소의 데이터를 모두 가져와서 자동으로 가장 최신 버전을 checkout해 놓는다."
   ]
  },
  {
   "cell_type": "markdown",
   "metadata": {},
   "source": [
    "### 원격 저장소 추가\n",
    "원격 서버의 주소를 이용하여 새 원격 저장소를 추가할 수 있다.\n",
    "- ```git remote add <원격 저장소 이름><원격 저장소 URL>```"
   ]
  },
  {
   "cell_type": "markdown",
   "metadata": {},
   "source": [
    "### 원격 저장소에 있는 파일들 가져오기(동기화)\n",
    "로컬에 commit 한 파일들을 리모트 저장소에 업로드 하기 전에 먼저 원격 저장소에 있는 파일들을 다운 받아서 동기화 시켜야 한다.\n",
    "- 동기화 명령어는 'git fetch'와 'git pull'이 있다.\n",
    "\n",
    "> #### git fetch\n",
    "<원격 저장소 이름>에 해당하는 저장소의 <원격 브랜치>를 현재 선택된 로컬 브랜치로 가져오지만, 자동으로 merge(병합)하지 않는다.\n",
    "- ```git fetch <원격 저장소 이름> <원격 브랜치>```\n",
    "\n",
    "> #### git pull\n",
    "git fetch 명령을 실행하고 자동으로 merge(병합)한다.\n",
    "```git pull <원격 저장소 이름> <원격 브랜치>```"
   ]
  },
  {
   "cell_type": "markdown",
   "metadata": {},
   "source": [
    "### 원격 저장소로 업로드 하기\n",
    "<원격 저장소 이름>의 <원격 브랜치>로 로컬 브랜치를 전송한다.\n",
    "- ```git push <원격 저장소 이름> <원격 브랜치>```\n",
    "- 위 명령을 수행하기 전에 'git fetch'나 'git pull'을 수행해야 한다.\n"
   ]
  },
  {
   "cell_type": "markdown",
   "metadata": {},
   "source": [
    "### 원격 저장소 이름 변경 및 삭제하기"
   ]
  },
  {
   "cell_type": "markdown",
   "metadata": {},
   "source": [
    "### 원격 저장소 이름 변경\n",
    "- ```git remote rename <변경할 원격 저장소 이름> <변경하고 싶은 저장소 이름>```\n",
    "- 변경할 원격 저장소 이름(A)을 변경하고 싶은 저장소 이름(B)으로 바꿈: A -> B"
   ]
  },
  {
   "cell_type": "markdown",
   "metadata": {},
   "source": [
    "### 원격 저장소 삭제\n",
    "- ```git remote rm <삭제할 원격 저장소 이름>```"
   ]
  },
  {
   "cell_type": "markdown",
   "metadata": {},
   "source": [
    "### 원격 브랜치 생성 및 삭제하기"
   ]
  },
  {
   "cell_type": "markdown",
   "metadata": {},
   "source": [
    "#### 원격 브랜치 생성\n",
    "<원격 저장소>에 <원격 브랜치>를 생성하고 현재의 로컬 브랜치와 동기화 시킨다.\n",
    "- ```git push <원격 저장소 이름> <원격 브랜치 이름>```\n",
    "- 위 명령을 수행하기 전에 새로 생성한 로컬 브랜치에서 파일을 만들고 commit을 먼저 진행해야 한다."
   ]
  },
  {
   "cell_type": "markdown",
   "metadata": {},
   "source": [
    "#### 원격 브랜치 가져오기\n",
    "원격 저장소에 있는 브랜치를 로컬 저장소로 가져올 수 있다.\n",
    "- ```git checkout --track <원격 저장소 이름>/<원격 브랜치 이름>```"
   ]
  },
  {
   "cell_type": "markdown",
   "metadata": {},
   "source": [
    "#### 원격 브랜치 삭제\n",
    "원격 브랜치를 삭제할 수 있다.\n",
    "- 기본 명령어\n",
    "    - ```git push <원격 저장소 이름> :<원격 브랜치 이름>```\n",
    "- '--delete 옵션' 사용\n",
    "    - ```git push <원격 저장소 이름> --delete <삭제할 원격 브랜치 이름>```"
   ]
  },
  {
   "cell_type": "markdown",
   "metadata": {},
   "source": [
    "### 원격 브랜치 참조와 업데이트"
   ]
  },
  {
   "cell_type": "markdown",
   "metadata": {},
   "source": [
    "#### 원격 브랜치 참조\n",
    "'git pull' 또는 'git fetch' 명령을 실행하면 git은 로컬 저장소에서 원격 브랜치에 대한 참조를 만든다.\n",
    "- 간혹 원격 브랜치에서 삭제된 브랜치를 로컬에서 여전히 참조하는 경우도 있다."
   ]
  },
  {
   "cell_type": "markdown",
   "metadata": {},
   "source": [
    "#### 원격 브랜치 조회\n",
    "원격 저장소의 브랜치를 조회할 수 있다.\n",
    "- ```git branch -r```"
   ]
  },
  {
   "cell_type": "markdown",
   "metadata": {},
   "source": [
    "#### 모든 브랜치 조회\n",
    "로컬 저장소와 원격 저장소의 모든 브랜치를 조회할 수 있다.\n",
    "- ```git branch -a```"
   ]
  },
  {
   "cell_type": "markdown",
   "metadata": {},
   "source": [
    "#### 원격 브랜치 상태 조회\n",
    "원격 브랜치와 로컬 브랜치의 관계를 상세히 볼 수 있다.\n",
    "- ```git remote show <원격 저장소 이름>```\n",
    "- 어떤 로컬 저장소가 원격 저장소와 track 상태에 있는지 확인할 수 있다.\n",
    "    - 원격 저장소에 더이상 유효하지 않은 브랜치(삭제된 브랜치)를 로컬에서 계속 참조하고 있음을 브랜치 상태가 'stale'로 표시된 부분에서 알 수 있다."
   ]
  },
  {
   "cell_type": "markdown",
   "metadata": {},
   "source": [
    "#### 원격 브랜치 참조 업데이트\n",
    "> ##### git remote prune\n",
    "원격 브랜치의 더 이상 유효하지 않은 참조(삭제된 브랜치)를 깨끗하게 지운다.\n",
    "- ```git remote prune <원격 브랜치 이름>```\n",
    "\n",
    "> ##### git fetch -p\n",
    "로컬 저장소를 최신 정보로 갱신(원격 저장소와 동기화)하며 자동적으로 더 이상 유효하지 않은 참조(삭제된 브랜치)를 제거한다.\n",
    "- ```git fetch -p```"
   ]
  },
  {
   "cell_type": "markdown",
   "metadata": {},
   "source": [
    "### 원격 저장소와의 동기화하기"
   ]
  },
  {
   "cell_type": "markdown",
   "metadata": {},
   "source": [
    "#### fetch 단계\n",
    "> ##### fetch\n",
    "원격 저장소의 변경 사항을 로컬 저장소로 가져오는데 이 때 원격 추적 브랜치를 사용하게 된다.\n",
    "- ```git fetch <원격 저장소 이름>```\n",
    "- 원격 브랜치에 대한 원격 추적 브랜치가 존재하지 않을 경우 원격 추적 브랜치를 만들고 이 원격 추적 브랜치에 변경 사항을 공유 받게 된다.\n",
    "\n",
    "> ##### FETCH_HEAD\n",
    "'git fetch' 명령이 실행되면 원격 저장소로부터 가져온 모든 브랜치의 헤드를 .git/FETCH_HEAD 파일에 기록하게 된다.\n",
    "- FETCH_HEAD는 원격 저장소로부터 가져온 브랜치의 HEAD를 의미한다.\n",
    "- git fetch 이후에만 유효한데, 패치 작업 직후에 가져온 브랜치의 최신 커밋을 참조할 때 유용하다."
   ]
  },
  {
   "cell_type": "markdown",
   "metadata": {},
   "source": [
    "#### 브랜치 최신화\n",
    "로컬 브랜치를 원격 저장소의 브랜치와 동기화하고 최신화(최신 commit을 참조)할 수 있다.\n",
    "- master 브랜치를 먼저 패치한 후 최신화 하고자 하는 브랜치로 체크아웃하여 리셋을 실행한다.\n",
    "\n",
    "> ##### master 브랜치 패치하기\n",
    "master 브랜치로 변경하기\n",
    "- ```git checkout master```\n",
    "\n",
    "master 브랜치 패치하기\n",
    "- ```git fetch```\n",
    "\n",
    "git pull 하기\n",
    "- ```git pull <원격 저장소 이름> <원격 브랜치 이름>```\n",
    "\n",
    "> ##### 브랜치 최신화하기\n",
    "브랜치 변경하기\n",
    "- ```git checkout <브랜치 이름>```\n",
    "\n",
    "브랜치 최신화하기\n",
    "- ```git reset --hard <원격 저장소 이름>/<브랜치 이름>```\n",
    "- 'reset --hard' 명령어는 작업 디렉토리와 인덱스의 상태를 모두 리셋해버리므로 조심해야 한다.\n",
    "- 현재 변경사항이 있거나 작업중이라면 최신화하기 전에 'git stash' 명령어로 stash에 안전하게 보관한 후 'reset --hard' 명령어를 실행해야 한다."
   ]
  },
  {
   "cell_type": "markdown",
   "metadata": {},
   "source": [
    "# Git 명령어"
   ]
  },
  {
   "cell_type": "markdown",
   "metadata": {},
   "source": [
    "## 기본 명령어"
   ]
  },
  {
   "cell_type": "markdown",
   "metadata": {},
   "source": [
    "### 리포지토리 초기화\n",
    "git으로 버전 관리를 하려면 리포지토리를 초기화해야 한다.\n",
    "- ```git init```"
   ]
  },
  {
   "cell_type": "markdown",
   "metadata": {},
   "source": [
    "### 리포지토리 상태 확인\n",
    "git 리포지토리의 상태를 표시하는 명령어이다.\n",
    "- ```git status```"
   ]
  },
  {
   "cell_type": "markdown",
   "metadata": {},
   "source": [
    "### 스테이지 영역에 파일 추가\n",
    "working tree에 있는 'Untracked files'을 스테이지 영역에 등록한다.\n",
    "- 스테이지 영역이란 commit 하기 전의 임시 영역이다.\n",
    "- ```git add <파일명>```"
   ]
  },
  {
   "cell_type": "markdown",
   "metadata": {},
   "source": [
    "### 리포지토리 변경 내용을 기록\n",
    "스테이지 영역에 기록된 시점의 파일들을 실제 리포지토리의 변경 내역에 반영하는 것이다.\n",
    "- ```git commit -m \"<메시지 내용>\"```"
   ]
  },
  {
   "cell_type": "markdown",
   "metadata": {},
   "source": [
    "### commit 확인\n",
    "리포지토리에 commit 된 로그를 확인하는 명령어이다.\n",
    "- 누가, 언제 commit 또는 merge를 했는지, 어떤 변경이 발생했는지 등을 확인할 수 있다.\n",
    "- ```git log```\n",
    "\n",
    "> #### commit 메시지의 첫번째 줄만 출력하는 방법\n",
    "```git log --pretty=short```\n",
    "\n",
    "> #### 선택한 폴더 또는 파일의 로그를 출력하는 방법\n",
    "'git log' 명령어에 폴더 이름을 붙이면 해당 폴더에서의 로그만 표시된다. 또한, 파일 이름을 붙이면 해당 파일과 관련된 로그만 표시된다.\n",
    "- ```git log <파일명>```\n",
    "\n",
    "> #### 파일의 변경된 내용을 출력하는 방법\n",
    "commit에서 변경된 내용을 확인하고 싶을 때는 '-p 옵션'을 사용한다.\n",
    "- commit 메시지의 뒤에 변경 내용이 함께 표시된다.\n",
    "    - ```git log -p```\n",
    "- 특정 파일의 commit 로그와 변경 내용만 출력해준다.\n",
    "    - ```git log -p <파일명>```\n",
    "> #### "
   ]
  }
 ],
 "metadata": {
  "language_info": {
   "name": "python"
  }
 },
 "nbformat": 4,
 "nbformat_minor": 2
}
